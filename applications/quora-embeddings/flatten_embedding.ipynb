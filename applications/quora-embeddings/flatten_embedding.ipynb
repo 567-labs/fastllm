{
 "cells": [
  {
   "cell_type": "code",
   "execution_count": 2,
   "metadata": {},
   "outputs": [
    {
     "name": "stderr",
     "output_type": "stream",
     "text": [
      "/Users/jasonliu/dev/fastllm/.venv/lib/python3.11/site-packages/tqdm/auto.py:21: TqdmWarning: IProgress not found. Please update jupyter and ipywidgets. See https://ipywidgets.readthedocs.io/en/stable/user_install.html\n",
      "  from .autonotebook import tqdm as notebook_tqdm\n"
     ]
    }
   ],
   "source": [
    "from datasets import load_dataset\n",
    "\n",
    "dataset = load_dataset(\"quora\")"
   ]
  },
  {
   "cell_type": "code",
   "execution_count": 3,
   "metadata": {},
   "outputs": [
    {
     "name": "stdout",
     "output_type": "stream",
     "text": [
      "Found 808580 training examples\n",
      "Found 537933 unique training examples\n"
     ]
    }
   ],
   "source": [
    "import pandas as pd\n",
    "\n",
    "\n",
    "def flatten_data(dataset):\n",
    "    for pairs in dataset[\"train\"][\"questions\"]:\n",
    "        for id, text in zip(pairs[\"id\"], pairs[\"text\"]):\n",
    "            yield {\"id\": id, \"text\": text}\n",
    "\n",
    "\n",
    "df = pd.DataFrame(flatten_data(dataset))\n",
    "print(f\"Found {len(df)} training examples\")\n",
    "df.drop_duplicates(subset=\"id\", inplace=True)\n",
    "print(f\"Found {len(df)} unique training examples\")\n",
    "df.to_csv(\"quora_train.csv\", index=False)"
   ]
  },
  {
   "cell_type": "code",
   "execution_count": 4,
   "metadata": {},
   "outputs": [
    {
     "data": {
      "text/html": [
       "<div>\n",
       "<style scoped>\n",
       "    .dataframe tbody tr th:only-of-type {\n",
       "        vertical-align: middle;\n",
       "    }\n",
       "\n",
       "    .dataframe tbody tr th {\n",
       "        vertical-align: top;\n",
       "    }\n",
       "\n",
       "    .dataframe thead th {\n",
       "        text-align: right;\n",
       "    }\n",
       "</style>\n",
       "<table border=\"1\" class=\"dataframe\">\n",
       "  <thead>\n",
       "    <tr style=\"text-align: right;\">\n",
       "      <th></th>\n",
       "      <th>id</th>\n",
       "      <th>text</th>\n",
       "    </tr>\n",
       "  </thead>\n",
       "  <tbody>\n",
       "    <tr>\n",
       "      <th>0</th>\n",
       "      <td>1</td>\n",
       "      <td>What is the step by step guide to invest in sh...</td>\n",
       "    </tr>\n",
       "    <tr>\n",
       "      <th>1</th>\n",
       "      <td>2</td>\n",
       "      <td>What is the step by step guide to invest in sh...</td>\n",
       "    </tr>\n",
       "    <tr>\n",
       "      <th>2</th>\n",
       "      <td>3</td>\n",
       "      <td>What is the story of Kohinoor (Koh-i-Noor) Dia...</td>\n",
       "    </tr>\n",
       "    <tr>\n",
       "      <th>3</th>\n",
       "      <td>4</td>\n",
       "      <td>What would happen if the Indian government sto...</td>\n",
       "    </tr>\n",
       "    <tr>\n",
       "      <th>4</th>\n",
       "      <td>5</td>\n",
       "      <td>How can I increase the speed of my internet co...</td>\n",
       "    </tr>\n",
       "  </tbody>\n",
       "</table>\n",
       "</div>"
      ],
      "text/plain": [
       "   id                                               text\n",
       "0   1  What is the step by step guide to invest in sh...\n",
       "1   2  What is the step by step guide to invest in sh...\n",
       "2   3  What is the story of Kohinoor (Koh-i-Noor) Dia...\n",
       "3   4  What would happen if the Indian government sto...\n",
       "4   5  How can I increase the speed of my internet co..."
      ]
     },
     "execution_count": 4,
     "metadata": {},
     "output_type": "execute_result"
    }
   ],
   "source": [
    "# This should be the set of texts we should just pass and tune embedding:\n",
    "df.head()"
   ]
  },
  {
   "cell_type": "markdown",
   "metadata": {},
   "source": []
  },
  {
   "cell_type": "code",
   "execution_count": 7,
   "metadata": {},
   "outputs": [],
   "source": [
    "import chunk\n",
    "import itertools\n",
    "from openai import AsyncOpenAI, OpenAI\n",
    "from typing import AsyncGenerator, List, Literal, Tuple\n",
    "import asyncio\n",
    "\n",
    "\n",
    "def batched(iterable, n=1):\n",
    "    \"\"\"\n",
    "    Yields batches of size n from iterable\n",
    "    \"\"\"\n",
    "    it = iter(iterable)\n",
    "    while True:\n",
    "        chunk = list(itertools.islice(it, n))\n",
    "        if not chunk:\n",
    "            return\n",
    "        yield chunk\n",
    "\n",
    "\n",
    "class Embedder:\n",
    "    @classmethod\n",
    "    def batch_text(cls, texts: List[Tuple[int, str]], batch_size: int = 32):\n",
    "        for batch in batched(texts, batch_size):\n",
    "            yield batch\n",
    "\n",
    "    @classmethod\n",
    "    async def embed_openai(\n",
    "        cls,\n",
    "        chunks: List[Tuple[int, str]],\n",
    "        model: Literal[\n",
    "            \"text-embedding-3-small\", \"text-embedding-3-large\"\n",
    "        ] = \"text-embedding-3-small\",\n",
    "    ):\n",
    "        client = AsyncOpenAI()\n",
    "        sem = asyncio.Semaphore(32)\n",
    "\n",
    "        async def fetch_embedding(idz: int, text_str: str):\n",
    "            async with sem:\n",
    "                response = await client.embeddings.create(input=text_str, model=model)\n",
    "                return (idz, response.data[0].embedding)\n",
    "\n",
    "        results = await asyncio.gather(*[\n",
    "                fetch_embedding(idz, text_str)\n",
    "                for (idz, text_str) in chunks\n",
    "            ])\n",
    "        return results\n"
   ]
  },
  {
   "cell_type": "markdown",
   "metadata": {},
   "source": []
  },
  {
   "cell_type": "code",
   "execution_count": 10,
   "metadata": {},
   "outputs": [],
   "source": [
    "sample = df.sample(100)\n",
    "sample_tuples = zip(sample[\"id\"], sample[\"text\"])\n",
    "\n",
    "results = await Embedder.embed_openai(\n",
    "    chunks=sample_tuples, model=\"text-embedding-3-small\"\n",
    ")\n",
    "\n",
    "pd.DataFrame(results, columns=[\"id\", \"embedding\"]).to_csv(\"quora_train_embeddings.csv\", index=False)"
   ]
  },
  {
   "cell_type": "code",
   "execution_count": 11,
   "metadata": {},
   "outputs": [
    {
     "data": {
      "text/html": [
       "<div>\n",
       "<style scoped>\n",
       "    .dataframe tbody tr th:only-of-type {\n",
       "        vertical-align: middle;\n",
       "    }\n",
       "\n",
       "    .dataframe tbody tr th {\n",
       "        vertical-align: top;\n",
       "    }\n",
       "\n",
       "    .dataframe thead th {\n",
       "        text-align: right;\n",
       "    }\n",
       "</style>\n",
       "<table border=\"1\" class=\"dataframe\">\n",
       "  <thead>\n",
       "    <tr style=\"text-align: right;\">\n",
       "      <th></th>\n",
       "      <th>id</th>\n",
       "      <th>embedding</th>\n",
       "    </tr>\n",
       "  </thead>\n",
       "  <tbody>\n",
       "    <tr>\n",
       "      <th>0</th>\n",
       "      <td>424100</td>\n",
       "      <td>[0.013506991788744926, 0.0046718236990273, 0.0...</td>\n",
       "    </tr>\n",
       "    <tr>\n",
       "      <th>1</th>\n",
       "      <td>151107</td>\n",
       "      <td>[0.013491247780621052, -0.024952838197350502, ...</td>\n",
       "    </tr>\n",
       "    <tr>\n",
       "      <th>2</th>\n",
       "      <td>18093</td>\n",
       "      <td>[-0.011101662181317806, -0.012250323779881, 0....</td>\n",
       "    </tr>\n",
       "    <tr>\n",
       "      <th>3</th>\n",
       "      <td>39252</td>\n",
       "      <td>[-0.03395606949925423, -0.002453284105286002, ...</td>\n",
       "    </tr>\n",
       "    <tr>\n",
       "      <th>4</th>\n",
       "      <td>162055</td>\n",
       "      <td>[0.01155170425772667, -0.010641014203429222, -...</td>\n",
       "    </tr>\n",
       "    <tr>\n",
       "      <th>...</th>\n",
       "      <td>...</td>\n",
       "      <td>...</td>\n",
       "    </tr>\n",
       "    <tr>\n",
       "      <th>95</th>\n",
       "      <td>88271</td>\n",
       "      <td>[0.023234102874994278, -0.04114900156855583, -...</td>\n",
       "    </tr>\n",
       "    <tr>\n",
       "      <th>96</th>\n",
       "      <td>486676</td>\n",
       "      <td>[0.0038834703154861927, -0.017274843528866768,...</td>\n",
       "    </tr>\n",
       "    <tr>\n",
       "      <th>97</th>\n",
       "      <td>215334</td>\n",
       "      <td>[0.05282963812351227, -0.0063212220557034016, ...</td>\n",
       "    </tr>\n",
       "    <tr>\n",
       "      <th>98</th>\n",
       "      <td>394546</td>\n",
       "      <td>[0.012760530225932598, 0.04238694906234741, 0....</td>\n",
       "    </tr>\n",
       "    <tr>\n",
       "      <th>99</th>\n",
       "      <td>186387</td>\n",
       "      <td>[0.031225556507706642, 0.0035442477092146873, ...</td>\n",
       "    </tr>\n",
       "  </tbody>\n",
       "</table>\n",
       "<p>100 rows × 2 columns</p>\n",
       "</div>"
      ],
      "text/plain": [
       "        id                                          embedding\n",
       "0   424100  [0.013506991788744926, 0.0046718236990273, 0.0...\n",
       "1   151107  [0.013491247780621052, -0.024952838197350502, ...\n",
       "2    18093  [-0.011101662181317806, -0.012250323779881, 0....\n",
       "3    39252  [-0.03395606949925423, -0.002453284105286002, ...\n",
       "4   162055  [0.01155170425772667, -0.010641014203429222, -...\n",
       "..     ...                                                ...\n",
       "95   88271  [0.023234102874994278, -0.04114900156855583, -...\n",
       "96  486676  [0.0038834703154861927, -0.017274843528866768,...\n",
       "97  215334  [0.05282963812351227, -0.0063212220557034016, ...\n",
       "98  394546  [0.012760530225932598, 0.04238694906234741, 0....\n",
       "99  186387  [0.031225556507706642, 0.0035442477092146873, ...\n",
       "\n",
       "[100 rows x 2 columns]"
      ]
     },
     "execution_count": 11,
     "metadata": {},
     "output_type": "execute_result"
    }
   ],
   "source": [
    "pd.read_csv(\"quora_train_embeddings.csv\")"
   ]
  },
  {
   "cell_type": "code",
   "execution_count": null,
   "metadata": {},
   "outputs": [],
   "source": []
  }
 ],
 "metadata": {
  "kernelspec": {
   "display_name": ".venv",
   "language": "python",
   "name": "python3"
  },
  "language_info": {
   "codemirror_mode": {
    "name": "ipython",
    "version": 3
   },
   "file_extension": ".py",
   "mimetype": "text/x-python",
   "name": "python",
   "nbconvert_exporter": "python",
   "pygments_lexer": "ipython3",
   "version": "3.11.6"
  },
  "orig_nbformat": 4
 },
 "nbformat": 4,
 "nbformat_minor": 2
}
